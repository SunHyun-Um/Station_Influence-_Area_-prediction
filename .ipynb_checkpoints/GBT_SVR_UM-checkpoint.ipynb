{
 "cells": [
  {
   "cell_type": "markdown",
   "metadata": {},
   "source": [
    "# 대구광역시 역세권 거주인구 추정 및 향후 변화 예측(GBT, SVR 예측 모델, 엄선현)"
   ]
  },
  {
   "cell_type": "code",
   "execution_count": 1,
   "metadata": {},
   "outputs": [
    {
     "name": "stderr",
     "output_type": "stream",
     "text": [
      "Using TensorFlow backend.\n"
     ]
    }
   ],
   "source": [
    "import pandas as pd\n",
    "import numpy as np\n",
    "import os\n",
    "from keras.models import Sequential \n",
    "from keras.layers import Dense \n",
    "from keras.wrappers.scikit_learn import KerasClassifier \n",
    "from sklearn.model_selection import KFold \n",
    "from sklearn.model_selection import cross_val_score\n",
    "from sklearn.model_selection import train_test_split\n",
    "from sklearn.metrics import r2_score"
   ]
  },
  {
   "cell_type": "code",
   "execution_count": 2,
   "metadata": {},
   "outputs": [],
   "source": [
    "from sklearn.metrics import mean_squared_error\n",
    "from math import sqrt\n",
    "from sklearn.metrics import mean_absolute_error"
   ]
  },
  {
   "cell_type": "code",
   "execution_count": 3,
   "metadata": {},
   "outputs": [],
   "source": [
    "pd.options.display.max_columns = 100"
   ]
  },
  {
   "cell_type": "code",
   "execution_count": 4,
   "metadata": {},
   "outputs": [
    {
     "data": {
      "text/plain": [
       "'/Users/um/Desktop/취업/git-hub/Station_Influence _Area_ prediction'"
      ]
     },
     "execution_count": 4,
     "metadata": {},
     "output_type": "execute_result"
    }
   ],
   "source": [
    "os.getcwd()"
   ]
  },
  {
   "cell_type": "code",
   "execution_count": 6,
   "metadata": {},
   "outputs": [
    {
     "data": {
      "text/plain": [
       "'/Users/um/Desktop/2020년/2학기/(2020-2)공무원프로젝트/data/3가지 예측모델 데이터'"
      ]
     },
     "execution_count": 6,
     "metadata": {},
     "output_type": "execute_result"
    }
   ],
   "source": [
    "os.chdir(\"/Users/um/Desktop/2020년/2학기/(2020-2)공무원프로젝트/data/3가지 예측모델 데이터\")\n",
    "os.getcwd()"
   ]
  },
  {
   "cell_type": "markdown",
   "metadata": {},
   "source": [
    "## 클러스터링 데이터"
   ]
  },
  {
   "cell_type": "code",
   "execution_count": 7,
   "metadata": {},
   "outputs": [],
   "source": [
    "data = pd.read_excel(\"20201117_전처리.xlsx\", sheet_name=\"원본\")"
   ]
  },
  {
   "cell_type": "code",
   "execution_count": 8,
   "metadata": {},
   "outputs": [
    {
     "data": {
      "text/html": [
       "<div>\n",
       "<style scoped>\n",
       "    .dataframe tbody tr th:only-of-type {\n",
       "        vertical-align: middle;\n",
       "    }\n",
       "\n",
       "    .dataframe tbody tr th {\n",
       "        vertical-align: top;\n",
       "    }\n",
       "\n",
       "    .dataframe thead th {\n",
       "        text-align: right;\n",
       "    }\n",
       "</style>\n",
       "<table border=\"1\" class=\"dataframe\">\n",
       "  <thead>\n",
       "    <tr style=\"text-align: right;\">\n",
       "      <th></th>\n",
       "      <th>Month</th>\n",
       "      <th>역명</th>\n",
       "      <th>가설건축물</th>\n",
       "      <th>공공용시설</th>\n",
       "      <th>공동주택</th>\n",
       "      <th>공장</th>\n",
       "      <th>관광휴게시설</th>\n",
       "      <th>교육연구및복지시설</th>\n",
       "      <th>교육연구시설</th>\n",
       "      <th>교정및군사시설</th>\n",
       "      <th>노유자시설</th>\n",
       "      <th>단독주택</th>\n",
       "      <th>동.식물관련시설</th>\n",
       "      <th>묘지관련시설</th>\n",
       "      <th>문화및집회시설</th>\n",
       "      <th>발전시설</th>\n",
       "      <th>방송통신시설</th>\n",
       "      <th>분뇨.쓰레기처리시설</th>\n",
       "      <th>수련시설</th>\n",
       "      <th>숙박시설</th>\n",
       "      <th>업무시설</th>\n",
       "      <th>운동시설</th>\n",
       "      <th>운수시설</th>\n",
       "      <th>위락시설</th>\n",
       "      <th>위험물저장및처리시설</th>\n",
       "      <th>의료시설</th>\n",
       "      <th>자동차관련시설</th>\n",
       "      <th>자원순환관련시설</th>\n",
       "      <th>장례시설</th>\n",
       "      <th>제1종근린생활시설</th>\n",
       "      <th>제2종근린생활시설</th>\n",
       "      <th>종교시설</th>\n",
       "      <th>창고시설</th>\n",
       "      <th>판매및영업시설</th>\n",
       "      <th>판매시설</th>\n",
       "      <th>05~06</th>\n",
       "      <th>06~07</th>\n",
       "      <th>07~08</th>\n",
       "      <th>08~09</th>\n",
       "      <th>09~10</th>\n",
       "      <th>10~11</th>\n",
       "      <th>11~12</th>\n",
       "      <th>12~13</th>\n",
       "      <th>13~14</th>\n",
       "      <th>14~15</th>\n",
       "      <th>15~16</th>\n",
       "      <th>16~17</th>\n",
       "      <th>17~18</th>\n",
       "      <th>18~19</th>\n",
       "      <th>19~20</th>\n",
       "      <th>20~21</th>\n",
       "      <th>21~22</th>\n",
       "      <th>22~23</th>\n",
       "      <th>23~24</th>\n",
       "      <th>2019승객수</th>\n",
       "      <th>2020총수송인구수</th>\n",
       "      <th>cluster</th>\n",
       "    </tr>\n",
       "  </thead>\n",
       "  <tbody>\n",
       "    <tr>\n",
       "      <th>0</th>\n",
       "      <td>1</td>\n",
       "      <td>각산</td>\n",
       "      <td>0</td>\n",
       "      <td>0</td>\n",
       "      <td>38</td>\n",
       "      <td>18</td>\n",
       "      <td>1</td>\n",
       "      <td>5</td>\n",
       "      <td>18</td>\n",
       "      <td>0</td>\n",
       "      <td>2</td>\n",
       "      <td>405</td>\n",
       "      <td>0</td>\n",
       "      <td>0</td>\n",
       "      <td>9</td>\n",
       "      <td>0</td>\n",
       "      <td>0</td>\n",
       "      <td>0</td>\n",
       "      <td>0</td>\n",
       "      <td>0</td>\n",
       "      <td>20</td>\n",
       "      <td>0</td>\n",
       "      <td>0</td>\n",
       "      <td>0</td>\n",
       "      <td>3</td>\n",
       "      <td>0</td>\n",
       "      <td>26</td>\n",
       "      <td>0</td>\n",
       "      <td>0</td>\n",
       "      <td>97</td>\n",
       "      <td>135</td>\n",
       "      <td>2</td>\n",
       "      <td>17</td>\n",
       "      <td>4</td>\n",
       "      <td>12</td>\n",
       "      <td>1415.0</td>\n",
       "      <td>5457.0</td>\n",
       "      <td>12550.0</td>\n",
       "      <td>20776.0</td>\n",
       "      <td>15592.0</td>\n",
       "      <td>12780.0</td>\n",
       "      <td>14494.0</td>\n",
       "      <td>15192.0</td>\n",
       "      <td>17643.0</td>\n",
       "      <td>15839.0</td>\n",
       "      <td>17664.0</td>\n",
       "      <td>17077.0</td>\n",
       "      <td>20291.0</td>\n",
       "      <td>24557.0</td>\n",
       "      <td>15780.0</td>\n",
       "      <td>10670.0</td>\n",
       "      <td>10848.0</td>\n",
       "      <td>10228.0</td>\n",
       "      <td>5464.0</td>\n",
       "      <td>264317.0</td>\n",
       "      <td>260249.0</td>\n",
       "      <td>7</td>\n",
       "    </tr>\n",
       "    <tr>\n",
       "      <th>1</th>\n",
       "      <td>10</td>\n",
       "      <td>각산</td>\n",
       "      <td>0</td>\n",
       "      <td>0</td>\n",
       "      <td>38</td>\n",
       "      <td>18</td>\n",
       "      <td>1</td>\n",
       "      <td>5</td>\n",
       "      <td>18</td>\n",
       "      <td>0</td>\n",
       "      <td>2</td>\n",
       "      <td>409</td>\n",
       "      <td>0</td>\n",
       "      <td>0</td>\n",
       "      <td>9</td>\n",
       "      <td>0</td>\n",
       "      <td>0</td>\n",
       "      <td>0</td>\n",
       "      <td>0</td>\n",
       "      <td>0</td>\n",
       "      <td>21</td>\n",
       "      <td>0</td>\n",
       "      <td>0</td>\n",
       "      <td>0</td>\n",
       "      <td>3</td>\n",
       "      <td>0</td>\n",
       "      <td>26</td>\n",
       "      <td>0</td>\n",
       "      <td>0</td>\n",
       "      <td>98</td>\n",
       "      <td>138</td>\n",
       "      <td>2</td>\n",
       "      <td>19</td>\n",
       "      <td>4</td>\n",
       "      <td>19</td>\n",
       "      <td>1932.0</td>\n",
       "      <td>6702.0</td>\n",
       "      <td>17718.0</td>\n",
       "      <td>23870.0</td>\n",
       "      <td>17953.0</td>\n",
       "      <td>13577.0</td>\n",
       "      <td>14894.0</td>\n",
       "      <td>16102.0</td>\n",
       "      <td>16143.0</td>\n",
       "      <td>16666.0</td>\n",
       "      <td>17309.0</td>\n",
       "      <td>18739.0</td>\n",
       "      <td>21736.0</td>\n",
       "      <td>25224.0</td>\n",
       "      <td>16863.0</td>\n",
       "      <td>11291.0</td>\n",
       "      <td>11348.0</td>\n",
       "      <td>9817.0</td>\n",
       "      <td>5452.0</td>\n",
       "      <td>283336.0</td>\n",
       "      <td>211568.0</td>\n",
       "      <td>7</td>\n",
       "    </tr>\n",
       "    <tr>\n",
       "      <th>2</th>\n",
       "      <td>2</td>\n",
       "      <td>각산</td>\n",
       "      <td>0</td>\n",
       "      <td>0</td>\n",
       "      <td>38</td>\n",
       "      <td>18</td>\n",
       "      <td>1</td>\n",
       "      <td>0</td>\n",
       "      <td>18</td>\n",
       "      <td>0</td>\n",
       "      <td>2</td>\n",
       "      <td>407</td>\n",
       "      <td>0</td>\n",
       "      <td>0</td>\n",
       "      <td>3</td>\n",
       "      <td>0</td>\n",
       "      <td>0</td>\n",
       "      <td>0</td>\n",
       "      <td>0</td>\n",
       "      <td>0</td>\n",
       "      <td>20</td>\n",
       "      <td>0</td>\n",
       "      <td>0</td>\n",
       "      <td>0</td>\n",
       "      <td>3</td>\n",
       "      <td>0</td>\n",
       "      <td>26</td>\n",
       "      <td>0</td>\n",
       "      <td>0</td>\n",
       "      <td>98</td>\n",
       "      <td>135</td>\n",
       "      <td>2</td>\n",
       "      <td>17</td>\n",
       "      <td>0</td>\n",
       "      <td>12</td>\n",
       "      <td>1134.0</td>\n",
       "      <td>4430.0</td>\n",
       "      <td>10554.0</td>\n",
       "      <td>16825.0</td>\n",
       "      <td>13250.0</td>\n",
       "      <td>11471.0</td>\n",
       "      <td>12714.0</td>\n",
       "      <td>13539.0</td>\n",
       "      <td>15349.0</td>\n",
       "      <td>14142.0</td>\n",
       "      <td>15331.0</td>\n",
       "      <td>15158.0</td>\n",
       "      <td>18424.0</td>\n",
       "      <td>20985.0</td>\n",
       "      <td>14106.0</td>\n",
       "      <td>10062.0</td>\n",
       "      <td>9790.0</td>\n",
       "      <td>9013.0</td>\n",
       "      <td>5485.0</td>\n",
       "      <td>231762.0</td>\n",
       "      <td>176565.0</td>\n",
       "      <td>7</td>\n",
       "    </tr>\n",
       "    <tr>\n",
       "      <th>3</th>\n",
       "      <td>3</td>\n",
       "      <td>각산</td>\n",
       "      <td>0</td>\n",
       "      <td>0</td>\n",
       "      <td>38</td>\n",
       "      <td>18</td>\n",
       "      <td>1</td>\n",
       "      <td>0</td>\n",
       "      <td>18</td>\n",
       "      <td>0</td>\n",
       "      <td>2</td>\n",
       "      <td>409</td>\n",
       "      <td>0</td>\n",
       "      <td>0</td>\n",
       "      <td>3</td>\n",
       "      <td>0</td>\n",
       "      <td>0</td>\n",
       "      <td>0</td>\n",
       "      <td>0</td>\n",
       "      <td>0</td>\n",
       "      <td>20</td>\n",
       "      <td>0</td>\n",
       "      <td>0</td>\n",
       "      <td>0</td>\n",
       "      <td>3</td>\n",
       "      <td>0</td>\n",
       "      <td>26</td>\n",
       "      <td>0</td>\n",
       "      <td>0</td>\n",
       "      <td>98</td>\n",
       "      <td>136</td>\n",
       "      <td>2</td>\n",
       "      <td>17</td>\n",
       "      <td>0</td>\n",
       "      <td>12</td>\n",
       "      <td>1510.0</td>\n",
       "      <td>5954.0</td>\n",
       "      <td>17813.0</td>\n",
       "      <td>21512.0</td>\n",
       "      <td>16471.0</td>\n",
       "      <td>12708.0</td>\n",
       "      <td>14140.0</td>\n",
       "      <td>14941.0</td>\n",
       "      <td>16102.0</td>\n",
       "      <td>14791.0</td>\n",
       "      <td>16861.0</td>\n",
       "      <td>17892.0</td>\n",
       "      <td>21551.0</td>\n",
       "      <td>24640.0</td>\n",
       "      <td>17131.0</td>\n",
       "      <td>11258.0</td>\n",
       "      <td>11796.0</td>\n",
       "      <td>10831.0</td>\n",
       "      <td>5940.0</td>\n",
       "      <td>273842.0</td>\n",
       "      <td>88349.0</td>\n",
       "      <td>7</td>\n",
       "    </tr>\n",
       "    <tr>\n",
       "      <th>4</th>\n",
       "      <td>4</td>\n",
       "      <td>각산</td>\n",
       "      <td>0</td>\n",
       "      <td>0</td>\n",
       "      <td>38</td>\n",
       "      <td>18</td>\n",
       "      <td>1</td>\n",
       "      <td>5</td>\n",
       "      <td>18</td>\n",
       "      <td>0</td>\n",
       "      <td>2</td>\n",
       "      <td>409</td>\n",
       "      <td>0</td>\n",
       "      <td>0</td>\n",
       "      <td>9</td>\n",
       "      <td>0</td>\n",
       "      <td>0</td>\n",
       "      <td>0</td>\n",
       "      <td>0</td>\n",
       "      <td>0</td>\n",
       "      <td>20</td>\n",
       "      <td>0</td>\n",
       "      <td>0</td>\n",
       "      <td>0</td>\n",
       "      <td>3</td>\n",
       "      <td>0</td>\n",
       "      <td>26</td>\n",
       "      <td>0</td>\n",
       "      <td>0</td>\n",
       "      <td>98</td>\n",
       "      <td>136</td>\n",
       "      <td>2</td>\n",
       "      <td>17</td>\n",
       "      <td>4</td>\n",
       "      <td>12</td>\n",
       "      <td>1760.0</td>\n",
       "      <td>6520.0</td>\n",
       "      <td>19021.0</td>\n",
       "      <td>23846.0</td>\n",
       "      <td>17862.0</td>\n",
       "      <td>12508.0</td>\n",
       "      <td>13092.0</td>\n",
       "      <td>15656.0</td>\n",
       "      <td>15709.0</td>\n",
       "      <td>13641.0</td>\n",
       "      <td>16556.0</td>\n",
       "      <td>17866.0</td>\n",
       "      <td>20117.0</td>\n",
       "      <td>23918.0</td>\n",
       "      <td>16591.0</td>\n",
       "      <td>11301.0</td>\n",
       "      <td>10938.0</td>\n",
       "      <td>10072.0</td>\n",
       "      <td>5502.0</td>\n",
       "      <td>272476.0</td>\n",
       "      <td>127276.0</td>\n",
       "      <td>7</td>\n",
       "    </tr>\n",
       "    <tr>\n",
       "      <th>...</th>\n",
       "      <td>...</td>\n",
       "      <td>...</td>\n",
       "      <td>...</td>\n",
       "      <td>...</td>\n",
       "      <td>...</td>\n",
       "      <td>...</td>\n",
       "      <td>...</td>\n",
       "      <td>...</td>\n",
       "      <td>...</td>\n",
       "      <td>...</td>\n",
       "      <td>...</td>\n",
       "      <td>...</td>\n",
       "      <td>...</td>\n",
       "      <td>...</td>\n",
       "      <td>...</td>\n",
       "      <td>...</td>\n",
       "      <td>...</td>\n",
       "      <td>...</td>\n",
       "      <td>...</td>\n",
       "      <td>...</td>\n",
       "      <td>...</td>\n",
       "      <td>...</td>\n",
       "      <td>...</td>\n",
       "      <td>...</td>\n",
       "      <td>...</td>\n",
       "      <td>...</td>\n",
       "      <td>...</td>\n",
       "      <td>...</td>\n",
       "      <td>...</td>\n",
       "      <td>...</td>\n",
       "      <td>...</td>\n",
       "      <td>...</td>\n",
       "      <td>...</td>\n",
       "      <td>...</td>\n",
       "      <td>...</td>\n",
       "      <td>...</td>\n",
       "      <td>...</td>\n",
       "      <td>...</td>\n",
       "      <td>...</td>\n",
       "      <td>...</td>\n",
       "      <td>...</td>\n",
       "      <td>...</td>\n",
       "      <td>...</td>\n",
       "      <td>...</td>\n",
       "      <td>...</td>\n",
       "      <td>...</td>\n",
       "      <td>...</td>\n",
       "      <td>...</td>\n",
       "      <td>...</td>\n",
       "      <td>...</td>\n",
       "      <td>...</td>\n",
       "      <td>...</td>\n",
       "      <td>...</td>\n",
       "      <td>...</td>\n",
       "      <td>...</td>\n",
       "      <td>...</td>\n",
       "      <td>...</td>\n",
       "    </tr>\n",
       "    <tr>\n",
       "      <th>845</th>\n",
       "      <td>5</td>\n",
       "      <td>황금</td>\n",
       "      <td>0</td>\n",
       "      <td>0</td>\n",
       "      <td>17</td>\n",
       "      <td>0</td>\n",
       "      <td>1</td>\n",
       "      <td>5</td>\n",
       "      <td>9</td>\n",
       "      <td>0</td>\n",
       "      <td>11</td>\n",
       "      <td>391</td>\n",
       "      <td>0</td>\n",
       "      <td>0</td>\n",
       "      <td>8</td>\n",
       "      <td>0</td>\n",
       "      <td>6</td>\n",
       "      <td>0</td>\n",
       "      <td>0</td>\n",
       "      <td>44</td>\n",
       "      <td>6</td>\n",
       "      <td>6</td>\n",
       "      <td>1</td>\n",
       "      <td>35</td>\n",
       "      <td>1</td>\n",
       "      <td>3</td>\n",
       "      <td>6</td>\n",
       "      <td>0</td>\n",
       "      <td>0</td>\n",
       "      <td>122</td>\n",
       "      <td>404</td>\n",
       "      <td>3</td>\n",
       "      <td>8</td>\n",
       "      <td>0</td>\n",
       "      <td>5</td>\n",
       "      <td>1303.0</td>\n",
       "      <td>3848.0</td>\n",
       "      <td>9247.0</td>\n",
       "      <td>14914.0</td>\n",
       "      <td>13277.0</td>\n",
       "      <td>11303.0</td>\n",
       "      <td>12143.0</td>\n",
       "      <td>13855.0</td>\n",
       "      <td>13900.0</td>\n",
       "      <td>14807.0</td>\n",
       "      <td>15190.0</td>\n",
       "      <td>16322.0</td>\n",
       "      <td>16146.0</td>\n",
       "      <td>19205.0</td>\n",
       "      <td>12789.0</td>\n",
       "      <td>9079.0</td>\n",
       "      <td>8055.0</td>\n",
       "      <td>6383.0</td>\n",
       "      <td>4202.0</td>\n",
       "      <td>215968.0</td>\n",
       "      <td>133157.0</td>\n",
       "      <td>3</td>\n",
       "    </tr>\n",
       "    <tr>\n",
       "      <th>846</th>\n",
       "      <td>6</td>\n",
       "      <td>황금</td>\n",
       "      <td>0</td>\n",
       "      <td>0</td>\n",
       "      <td>17</td>\n",
       "      <td>0</td>\n",
       "      <td>1</td>\n",
       "      <td>5</td>\n",
       "      <td>9</td>\n",
       "      <td>0</td>\n",
       "      <td>11</td>\n",
       "      <td>392</td>\n",
       "      <td>0</td>\n",
       "      <td>0</td>\n",
       "      <td>8</td>\n",
       "      <td>0</td>\n",
       "      <td>6</td>\n",
       "      <td>0</td>\n",
       "      <td>0</td>\n",
       "      <td>44</td>\n",
       "      <td>6</td>\n",
       "      <td>6</td>\n",
       "      <td>1</td>\n",
       "      <td>35</td>\n",
       "      <td>1</td>\n",
       "      <td>3</td>\n",
       "      <td>6</td>\n",
       "      <td>0</td>\n",
       "      <td>0</td>\n",
       "      <td>122</td>\n",
       "      <td>405</td>\n",
       "      <td>3</td>\n",
       "      <td>8</td>\n",
       "      <td>0</td>\n",
       "      <td>5</td>\n",
       "      <td>1405.0</td>\n",
       "      <td>3531.0</td>\n",
       "      <td>8130.0</td>\n",
       "      <td>13736.0</td>\n",
       "      <td>12062.0</td>\n",
       "      <td>10545.0</td>\n",
       "      <td>11529.0</td>\n",
       "      <td>12710.0</td>\n",
       "      <td>12760.0</td>\n",
       "      <td>12975.0</td>\n",
       "      <td>13252.0</td>\n",
       "      <td>14484.0</td>\n",
       "      <td>14912.0</td>\n",
       "      <td>17446.0</td>\n",
       "      <td>11354.0</td>\n",
       "      <td>8371.0</td>\n",
       "      <td>7693.0</td>\n",
       "      <td>6116.0</td>\n",
       "      <td>3687.0</td>\n",
       "      <td>196698.0</td>\n",
       "      <td>142248.0</td>\n",
       "      <td>3</td>\n",
       "    </tr>\n",
       "    <tr>\n",
       "      <th>847</th>\n",
       "      <td>7</td>\n",
       "      <td>황금</td>\n",
       "      <td>0</td>\n",
       "      <td>0</td>\n",
       "      <td>17</td>\n",
       "      <td>0</td>\n",
       "      <td>1</td>\n",
       "      <td>5</td>\n",
       "      <td>9</td>\n",
       "      <td>0</td>\n",
       "      <td>11</td>\n",
       "      <td>393</td>\n",
       "      <td>0</td>\n",
       "      <td>0</td>\n",
       "      <td>8</td>\n",
       "      <td>0</td>\n",
       "      <td>6</td>\n",
       "      <td>0</td>\n",
       "      <td>0</td>\n",
       "      <td>44</td>\n",
       "      <td>6</td>\n",
       "      <td>6</td>\n",
       "      <td>1</td>\n",
       "      <td>35</td>\n",
       "      <td>1</td>\n",
       "      <td>3</td>\n",
       "      <td>7</td>\n",
       "      <td>0</td>\n",
       "      <td>0</td>\n",
       "      <td>122</td>\n",
       "      <td>406</td>\n",
       "      <td>3</td>\n",
       "      <td>8</td>\n",
       "      <td>0</td>\n",
       "      <td>5</td>\n",
       "      <td>1280.0</td>\n",
       "      <td>3650.0</td>\n",
       "      <td>8053.0</td>\n",
       "      <td>14965.0</td>\n",
       "      <td>12426.0</td>\n",
       "      <td>11610.0</td>\n",
       "      <td>12313.0</td>\n",
       "      <td>13764.0</td>\n",
       "      <td>13833.0</td>\n",
       "      <td>13509.0</td>\n",
       "      <td>13662.0</td>\n",
       "      <td>15225.0</td>\n",
       "      <td>15740.0</td>\n",
       "      <td>18944.0</td>\n",
       "      <td>12120.0</td>\n",
       "      <td>8668.0</td>\n",
       "      <td>7973.0</td>\n",
       "      <td>6701.0</td>\n",
       "      <td>3848.0</td>\n",
       "      <td>208284.0</td>\n",
       "      <td>149504.0</td>\n",
       "      <td>3</td>\n",
       "    </tr>\n",
       "    <tr>\n",
       "      <th>848</th>\n",
       "      <td>8</td>\n",
       "      <td>황금</td>\n",
       "      <td>0</td>\n",
       "      <td>0</td>\n",
       "      <td>17</td>\n",
       "      <td>0</td>\n",
       "      <td>1</td>\n",
       "      <td>5</td>\n",
       "      <td>9</td>\n",
       "      <td>0</td>\n",
       "      <td>11</td>\n",
       "      <td>394</td>\n",
       "      <td>0</td>\n",
       "      <td>0</td>\n",
       "      <td>8</td>\n",
       "      <td>0</td>\n",
       "      <td>6</td>\n",
       "      <td>0</td>\n",
       "      <td>0</td>\n",
       "      <td>44</td>\n",
       "      <td>6</td>\n",
       "      <td>6</td>\n",
       "      <td>1</td>\n",
       "      <td>35</td>\n",
       "      <td>1</td>\n",
       "      <td>3</td>\n",
       "      <td>7</td>\n",
       "      <td>0</td>\n",
       "      <td>0</td>\n",
       "      <td>122</td>\n",
       "      <td>411</td>\n",
       "      <td>3</td>\n",
       "      <td>8</td>\n",
       "      <td>0</td>\n",
       "      <td>5</td>\n",
       "      <td>1272.0</td>\n",
       "      <td>3320.0</td>\n",
       "      <td>7189.0</td>\n",
       "      <td>13044.0</td>\n",
       "      <td>12126.0</td>\n",
       "      <td>11076.0</td>\n",
       "      <td>11433.0</td>\n",
       "      <td>12581.0</td>\n",
       "      <td>12703.0</td>\n",
       "      <td>12515.0</td>\n",
       "      <td>12774.0</td>\n",
       "      <td>14157.0</td>\n",
       "      <td>14692.0</td>\n",
       "      <td>17487.0</td>\n",
       "      <td>11205.0</td>\n",
       "      <td>7991.0</td>\n",
       "      <td>7285.0</td>\n",
       "      <td>6217.0</td>\n",
       "      <td>4016.0</td>\n",
       "      <td>193083.0</td>\n",
       "      <td>137694.0</td>\n",
       "      <td>3</td>\n",
       "    </tr>\n",
       "    <tr>\n",
       "      <th>849</th>\n",
       "      <td>9</td>\n",
       "      <td>황금</td>\n",
       "      <td>0</td>\n",
       "      <td>0</td>\n",
       "      <td>17</td>\n",
       "      <td>0</td>\n",
       "      <td>1</td>\n",
       "      <td>5</td>\n",
       "      <td>9</td>\n",
       "      <td>0</td>\n",
       "      <td>11</td>\n",
       "      <td>394</td>\n",
       "      <td>0</td>\n",
       "      <td>0</td>\n",
       "      <td>8</td>\n",
       "      <td>0</td>\n",
       "      <td>6</td>\n",
       "      <td>0</td>\n",
       "      <td>0</td>\n",
       "      <td>44</td>\n",
       "      <td>6</td>\n",
       "      <td>6</td>\n",
       "      <td>1</td>\n",
       "      <td>35</td>\n",
       "      <td>1</td>\n",
       "      <td>3</td>\n",
       "      <td>7</td>\n",
       "      <td>0</td>\n",
       "      <td>0</td>\n",
       "      <td>122</td>\n",
       "      <td>412</td>\n",
       "      <td>3</td>\n",
       "      <td>8</td>\n",
       "      <td>0</td>\n",
       "      <td>5</td>\n",
       "      <td>994.0</td>\n",
       "      <td>2913.0</td>\n",
       "      <td>7892.0</td>\n",
       "      <td>12576.0</td>\n",
       "      <td>11319.0</td>\n",
       "      <td>10271.0</td>\n",
       "      <td>10873.0</td>\n",
       "      <td>12647.0</td>\n",
       "      <td>12677.0</td>\n",
       "      <td>12840.0</td>\n",
       "      <td>13107.0</td>\n",
       "      <td>14356.0</td>\n",
       "      <td>14668.0</td>\n",
       "      <td>17178.0</td>\n",
       "      <td>10441.0</td>\n",
       "      <td>7226.0</td>\n",
       "      <td>6947.0</td>\n",
       "      <td>5730.0</td>\n",
       "      <td>3321.0</td>\n",
       "      <td>187976.0</td>\n",
       "      <td>138695.0</td>\n",
       "      <td>3</td>\n",
       "    </tr>\n",
       "  </tbody>\n",
       "</table>\n",
       "<p>850 rows × 57 columns</p>\n",
       "</div>"
      ],
      "text/plain": [
       "     Month  역명  가설건축물  공공용시설  공동주택  공장  관광휴게시설  교육연구및복지시설  교육연구시설  교정및군사시설  \\\n",
       "0        1  각산      0      0    38  18       1          5      18        0   \n",
       "1       10  각산      0      0    38  18       1          5      18        0   \n",
       "2        2  각산      0      0    38  18       1          0      18        0   \n",
       "3        3  각산      0      0    38  18       1          0      18        0   \n",
       "4        4  각산      0      0    38  18       1          5      18        0   \n",
       "..     ...  ..    ...    ...   ...  ..     ...        ...     ...      ...   \n",
       "845      5  황금      0      0    17   0       1          5       9        0   \n",
       "846      6  황금      0      0    17   0       1          5       9        0   \n",
       "847      7  황금      0      0    17   0       1          5       9        0   \n",
       "848      8  황금      0      0    17   0       1          5       9        0   \n",
       "849      9  황금      0      0    17   0       1          5       9        0   \n",
       "\n",
       "     노유자시설  단독주택  동.식물관련시설  묘지관련시설  문화및집회시설  발전시설  방송통신시설  분뇨.쓰레기처리시설  수련시설  \\\n",
       "0        2   405         0       0        9     0       0           0     0   \n",
       "1        2   409         0       0        9     0       0           0     0   \n",
       "2        2   407         0       0        3     0       0           0     0   \n",
       "3        2   409         0       0        3     0       0           0     0   \n",
       "4        2   409         0       0        9     0       0           0     0   \n",
       "..     ...   ...       ...     ...      ...   ...     ...         ...   ...   \n",
       "845     11   391         0       0        8     0       6           0     0   \n",
       "846     11   392         0       0        8     0       6           0     0   \n",
       "847     11   393         0       0        8     0       6           0     0   \n",
       "848     11   394         0       0        8     0       6           0     0   \n",
       "849     11   394         0       0        8     0       6           0     0   \n",
       "\n",
       "     숙박시설  업무시설  운동시설  운수시설  위락시설  위험물저장및처리시설  의료시설  자동차관련시설  자원순환관련시설  장례시설  \\\n",
       "0       0    20     0     0     0           3     0       26         0     0   \n",
       "1       0    21     0     0     0           3     0       26         0     0   \n",
       "2       0    20     0     0     0           3     0       26         0     0   \n",
       "3       0    20     0     0     0           3     0       26         0     0   \n",
       "4       0    20     0     0     0           3     0       26         0     0   \n",
       "..    ...   ...   ...   ...   ...         ...   ...      ...       ...   ...   \n",
       "845    44     6     6     1    35           1     3        6         0     0   \n",
       "846    44     6     6     1    35           1     3        6         0     0   \n",
       "847    44     6     6     1    35           1     3        7         0     0   \n",
       "848    44     6     6     1    35           1     3        7         0     0   \n",
       "849    44     6     6     1    35           1     3        7         0     0   \n",
       "\n",
       "     제1종근린생활시설  제2종근린생활시설  종교시설  창고시설  판매및영업시설  판매시설   05~06   06~07    07~08  \\\n",
       "0           97        135     2    17        4    12  1415.0  5457.0  12550.0   \n",
       "1           98        138     2    19        4    19  1932.0  6702.0  17718.0   \n",
       "2           98        135     2    17        0    12  1134.0  4430.0  10554.0   \n",
       "3           98        136     2    17        0    12  1510.0  5954.0  17813.0   \n",
       "4           98        136     2    17        4    12  1760.0  6520.0  19021.0   \n",
       "..         ...        ...   ...   ...      ...   ...     ...     ...      ...   \n",
       "845        122        404     3     8        0     5  1303.0  3848.0   9247.0   \n",
       "846        122        405     3     8        0     5  1405.0  3531.0   8130.0   \n",
       "847        122        406     3     8        0     5  1280.0  3650.0   8053.0   \n",
       "848        122        411     3     8        0     5  1272.0  3320.0   7189.0   \n",
       "849        122        412     3     8        0     5   994.0  2913.0   7892.0   \n",
       "\n",
       "       08~09    09~10    10~11    11~12    12~13    13~14    14~15    15~16  \\\n",
       "0    20776.0  15592.0  12780.0  14494.0  15192.0  17643.0  15839.0  17664.0   \n",
       "1    23870.0  17953.0  13577.0  14894.0  16102.0  16143.0  16666.0  17309.0   \n",
       "2    16825.0  13250.0  11471.0  12714.0  13539.0  15349.0  14142.0  15331.0   \n",
       "3    21512.0  16471.0  12708.0  14140.0  14941.0  16102.0  14791.0  16861.0   \n",
       "4    23846.0  17862.0  12508.0  13092.0  15656.0  15709.0  13641.0  16556.0   \n",
       "..       ...      ...      ...      ...      ...      ...      ...      ...   \n",
       "845  14914.0  13277.0  11303.0  12143.0  13855.0  13900.0  14807.0  15190.0   \n",
       "846  13736.0  12062.0  10545.0  11529.0  12710.0  12760.0  12975.0  13252.0   \n",
       "847  14965.0  12426.0  11610.0  12313.0  13764.0  13833.0  13509.0  13662.0   \n",
       "848  13044.0  12126.0  11076.0  11433.0  12581.0  12703.0  12515.0  12774.0   \n",
       "849  12576.0  11319.0  10271.0  10873.0  12647.0  12677.0  12840.0  13107.0   \n",
       "\n",
       "       16~17    17~18    18~19    19~20    20~21    21~22    22~23   23~24  \\\n",
       "0    17077.0  20291.0  24557.0  15780.0  10670.0  10848.0  10228.0  5464.0   \n",
       "1    18739.0  21736.0  25224.0  16863.0  11291.0  11348.0   9817.0  5452.0   \n",
       "2    15158.0  18424.0  20985.0  14106.0  10062.0   9790.0   9013.0  5485.0   \n",
       "3    17892.0  21551.0  24640.0  17131.0  11258.0  11796.0  10831.0  5940.0   \n",
       "4    17866.0  20117.0  23918.0  16591.0  11301.0  10938.0  10072.0  5502.0   \n",
       "..       ...      ...      ...      ...      ...      ...      ...     ...   \n",
       "845  16322.0  16146.0  19205.0  12789.0   9079.0   8055.0   6383.0  4202.0   \n",
       "846  14484.0  14912.0  17446.0  11354.0   8371.0   7693.0   6116.0  3687.0   \n",
       "847  15225.0  15740.0  18944.0  12120.0   8668.0   7973.0   6701.0  3848.0   \n",
       "848  14157.0  14692.0  17487.0  11205.0   7991.0   7285.0   6217.0  4016.0   \n",
       "849  14356.0  14668.0  17178.0  10441.0   7226.0   6947.0   5730.0  3321.0   \n",
       "\n",
       "      2019승객수  2020총수송인구수  cluster  \n",
       "0    264317.0    260249.0        7  \n",
       "1    283336.0    211568.0        7  \n",
       "2    231762.0    176565.0        7  \n",
       "3    273842.0     88349.0        7  \n",
       "4    272476.0    127276.0        7  \n",
       "..        ...         ...      ...  \n",
       "845  215968.0    133157.0        3  \n",
       "846  196698.0    142248.0        3  \n",
       "847  208284.0    149504.0        3  \n",
       "848  193083.0    137694.0        3  \n",
       "849  187976.0    138695.0        3  \n",
       "\n",
       "[850 rows x 57 columns]"
      ]
     },
     "execution_count": 8,
     "metadata": {},
     "output_type": "execute_result"
    }
   ],
   "source": [
    "data"
   ]
  },
  {
   "cell_type": "code",
   "execution_count": 11,
   "metadata": {},
   "outputs": [
    {
     "name": "stdout",
     "output_type": "stream",
     "text": [
      "<class 'pandas.core.frame.DataFrame'>\n",
      "RangeIndex: 850 entries, 0 to 849\n",
      "Data columns (total 57 columns):\n",
      " #   Column      Non-Null Count  Dtype  \n",
      "---  ------      --------------  -----  \n",
      " 0   Month       850 non-null    int64  \n",
      " 1   역명          850 non-null    object \n",
      " 2   가설건축물       850 non-null    int64  \n",
      " 3   공공용시설       850 non-null    int64  \n",
      " 4   공동주택        850 non-null    int64  \n",
      " 5   공장          850 non-null    int64  \n",
      " 6   관광휴게시설      850 non-null    int64  \n",
      " 7   교육연구및복지시설   850 non-null    int64  \n",
      " 8   교육연구시설      850 non-null    int64  \n",
      " 9   교정및군사시설     850 non-null    int64  \n",
      " 10  노유자시설       850 non-null    int64  \n",
      " 11  단독주택        850 non-null    int64  \n",
      " 12  동.식물관련시설    850 non-null    int64  \n",
      " 13  묘지관련시설      850 non-null    int64  \n",
      " 14  문화및집회시설     850 non-null    int64  \n",
      " 15  발전시설        850 non-null    int64  \n",
      " 16  방송통신시설      850 non-null    int64  \n",
      " 17  분뇨.쓰레기처리시설  850 non-null    int64  \n",
      " 18  수련시설        850 non-null    int64  \n",
      " 19  숙박시설        850 non-null    int64  \n",
      " 20  업무시설        850 non-null    int64  \n",
      " 21  운동시설        850 non-null    int64  \n",
      " 22  운수시설        850 non-null    int64  \n",
      " 23  위락시설        850 non-null    int64  \n",
      " 24  위험물저장및처리시설  850 non-null    int64  \n",
      " 25  의료시설        850 non-null    int64  \n",
      " 26  자동차관련시설     850 non-null    int64  \n",
      " 27  자원순환관련시설    850 non-null    int64  \n",
      " 28  장례시설        850 non-null    int64  \n",
      " 29  제1종근린생활시설   850 non-null    int64  \n",
      " 30  제2종근린생활시설   850 non-null    int64  \n",
      " 31  종교시설        850 non-null    int64  \n",
      " 32  창고시설        850 non-null    int64  \n",
      " 33  판매및영업시설     850 non-null    int64  \n",
      " 34  판매시설        850 non-null    int64  \n",
      " 35  05~06       850 non-null    float64\n",
      " 36  06~07       850 non-null    float64\n",
      " 37  07~08       850 non-null    float64\n",
      " 38  08~09       850 non-null    float64\n",
      " 39  09~10       850 non-null    float64\n",
      " 40  10~11       850 non-null    float64\n",
      " 41  11~12       850 non-null    float64\n",
      " 42  12~13       850 non-null    float64\n",
      " 43  13~14       850 non-null    float64\n",
      " 44  14~15       850 non-null    float64\n",
      " 45  15~16       850 non-null    float64\n",
      " 46  16~17       850 non-null    float64\n",
      " 47  17~18       850 non-null    float64\n",
      " 48  18~19       850 non-null    float64\n",
      " 49  19~20       850 non-null    float64\n",
      " 50  20~21       850 non-null    float64\n",
      " 51  21~22       850 non-null    float64\n",
      " 52  22~23       850 non-null    float64\n",
      " 53  23~24       850 non-null    float64\n",
      " 54  2019승객수     850 non-null    float64\n",
      " 55  2020총수송인구수  850 non-null    float64\n",
      " 56  cluster     850 non-null    int64  \n",
      "dtypes: float64(21), int64(35), object(1)\n",
      "memory usage: 378.6+ KB\n"
     ]
    }
   ],
   "source": [
    "data.info()"
   ]
  },
  {
   "cell_type": "code",
   "execution_count": 17,
   "metadata": {},
   "outputs": [
    {
     "data": {
      "text/plain": [
       "['대명',\n",
       " '두류',\n",
       " '대곡(정부대구청사)',\n",
       " '학정',\n",
       " '문양',\n",
       " '용계',\n",
       " '동대구역',\n",
       " '반월당',\n",
       " '어린이회관',\n",
       " '칠성시장',\n",
       " '큰고개',\n",
       " '사월',\n",
       " '계명대',\n",
       " '영대병원',\n",
       " '중앙로',\n",
       " '범물',\n",
       " '용산(서부법원?검찰청입구)',\n",
       " '대구은행',\n",
       " '건들바위',\n",
       " '아양교',\n",
       " '남산',\n",
       " '서문시장(동산병원)',\n",
       " '상인',\n",
       " '대구역']"
      ]
     },
     "execution_count": 17,
     "metadata": {},
     "output_type": "execute_result"
    }
   ],
   "source": [
    "test_name = [\"대명\",\"두류\",\"대곡(정부대구청사)\",\"학정\",\"문양\",\"용계\",\"동대구역\",\"반월당\",\"어린이회관\",\"칠성시장\",\"큰고개\",\"사월\",\"계명대\",\"영대병원\",\"중앙로\"\n",
    "            ,\"범물\",\"용산(서부법원?검찰청입구)\",\"대구은행\",\"건들바위\",\"아양교\",\"남산\",\"서문시장(동산병원)\",\"상인\",\"대구역\"]\n",
    "test_name"
   ]
  },
  {
   "cell_type": "code",
   "execution_count": 18,
   "metadata": {},
   "outputs": [
    {
     "data": {
      "text/plain": [
       "24"
      ]
     },
     "execution_count": 18,
     "metadata": {},
     "output_type": "execute_result"
    }
   ],
   "source": [
    "len(test_name)"
   ]
  },
  {
   "cell_type": "code",
   "execution_count": 19,
   "metadata": {},
   "outputs": [],
   "source": [
    "test_data = data[data[\"역명\"].isin(test_name)]"
   ]
  },
  {
   "cell_type": "code",
   "execution_count": 20,
   "metadata": {},
   "outputs": [
    {
     "data": {
      "text/plain": [
       "30     건들바위\n",
       "31     건들바위\n",
       "32     건들바위\n",
       "33     건들바위\n",
       "34     건들바위\n",
       "       ... \n",
       "805      학정\n",
       "806      학정\n",
       "807      학정\n",
       "808      학정\n",
       "809      학정\n",
       "Name: 역명, Length: 240, dtype: object"
      ]
     },
     "execution_count": 20,
     "metadata": {},
     "output_type": "execute_result"
    }
   ],
   "source": [
    "test_data[\"역명\"]"
   ]
  },
  {
   "cell_type": "code",
   "execution_count": 21,
   "metadata": {},
   "outputs": [],
   "source": [
    "train_data = data[data[\"역명\"].isin(test_name)==False]"
   ]
  },
  {
   "cell_type": "code",
   "execution_count": 22,
   "metadata": {},
   "outputs": [
    {
     "data": {
      "text/plain": [
       "0      각산\n",
       "1      각산\n",
       "2      각산\n",
       "3      각산\n",
       "4      각산\n",
       "       ..\n",
       "845    황금\n",
       "846    황금\n",
       "847    황금\n",
       "848    황금\n",
       "849    황금\n",
       "Name: 역명, Length: 610, dtype: object"
      ]
     },
     "execution_count": 22,
     "metadata": {},
     "output_type": "execute_result"
    }
   ],
   "source": [
    "train_data[\"역명\"]"
   ]
  },
  {
   "cell_type": "code",
   "execution_count": 23,
   "metadata": {},
   "outputs": [
    {
     "data": {
      "text/plain": [
       "Index(['Month', '역명', '가설건축물', '공공용시설', '공동주택', '공장', '관광휴게시설', '교육연구및복지시설',\n",
       "       '교육연구시설', '교정및군사시설', '노유자시설', '단독주택', '동.식물관련시설', '묘지관련시설', '문화및집회시설',\n",
       "       '발전시설', '방송통신시설', '분뇨.쓰레기처리시설', '수련시설', '숙박시설', '업무시설', '운동시설', '운수시설',\n",
       "       '위락시설', '위험물저장및처리시설', '의료시설', '자동차관련시설', '자원순환관련시설', '장례시설',\n",
       "       '제1종근린생활시설', '제2종근린생활시설', '종교시설', '창고시설', '판매및영업시설', '판매시설', '05~06',\n",
       "       '06~07', '07~08', '08~09', '09~10', '10~11', '11~12', '12~13', '13~14',\n",
       "       '14~15', '15~16', '16~17', '17~18', '18~19', '19~20', '20~21', '21~22',\n",
       "       '22~23', '23~24', '2019승객수', '2020총수송인구수', 'cluster'],\n",
       "      dtype='object')"
      ]
     },
     "execution_count": 23,
     "metadata": {},
     "output_type": "execute_result"
    }
   ],
   "source": [
    "data.columns"
   ]
  },
  {
   "cell_type": "code",
   "execution_count": 24,
   "metadata": {},
   "outputs": [],
   "source": [
    "x_train = train_data.drop([\"역명\",'2020총수송인구수','2019승객수', 'cluster'], axis=1)"
   ]
  },
  {
   "cell_type": "code",
   "execution_count": 25,
   "metadata": {},
   "outputs": [],
   "source": [
    "y_train = train_data[[\"2020총수송인구수\"]]"
   ]
  },
  {
   "cell_type": "code",
   "execution_count": 26,
   "metadata": {},
   "outputs": [],
   "source": [
    "x_test = test_data.drop([\"역명\",'2020총수송인구수','2019승객수', 'cluster'], axis=1)"
   ]
  },
  {
   "cell_type": "code",
   "execution_count": 27,
   "metadata": {},
   "outputs": [],
   "source": [
    "y_test = test_data[[\"2020총수송인구수\"]]"
   ]
  },
  {
   "cell_type": "code",
   "execution_count": 28,
   "metadata": {},
   "outputs": [
    {
     "data": {
      "text/plain": [
       "Index(['Month', '가설건축물', '공공용시설', '공동주택', '공장', '관광휴게시설', '교육연구및복지시설',\n",
       "       '교육연구시설', '교정및군사시설', '노유자시설', '단독주택', '동.식물관련시설', '묘지관련시설', '문화및집회시설',\n",
       "       '발전시설', '방송통신시설', '분뇨.쓰레기처리시설', '수련시설', '숙박시설', '업무시설', '운동시설', '운수시설',\n",
       "       '위락시설', '위험물저장및처리시설', '의료시설', '자동차관련시설', '자원순환관련시설', '장례시설',\n",
       "       '제1종근린생활시설', '제2종근린생활시설', '종교시설', '창고시설', '판매및영업시설', '판매시설', '05~06',\n",
       "       '06~07', '07~08', '08~09', '09~10', '10~11', '11~12', '12~13', '13~14',\n",
       "       '14~15', '15~16', '16~17', '17~18', '18~19', '19~20', '20~21', '21~22',\n",
       "       '22~23', '23~24'],\n",
       "      dtype='object')"
      ]
     },
     "execution_count": 28,
     "metadata": {},
     "output_type": "execute_result"
    }
   ],
   "source": [
    "x_test.columns"
   ]
  },
  {
   "cell_type": "code",
   "execution_count": 29,
   "metadata": {},
   "outputs": [
    {
     "data": {
      "text/plain": [
       "Index(['2020총수송인구수'], dtype='object')"
      ]
     },
     "execution_count": 29,
     "metadata": {},
     "output_type": "execute_result"
    }
   ],
   "source": [
    "y_test.columns"
   ]
  },
  {
   "cell_type": "markdown",
   "metadata": {},
   "source": [
    "## GBT 분석"
   ]
  },
  {
   "cell_type": "code",
   "execution_count": 30,
   "metadata": {},
   "outputs": [
    {
     "name": "stderr",
     "output_type": "stream",
     "text": [
      "/Users/um/anaconda3/lib/python3.7/site-packages/sklearn/ensemble/_gb.py:1454: DataConversionWarning: A column-vector y was passed when a 1d array was expected. Please change the shape of y to (n_samples, ), for example using ravel().\n",
      "  y = column_or_1d(y, warn=True)\n"
     ]
    },
    {
     "data": {
      "text/plain": [
       "GradientBoostingRegressor(alpha=0.9, ccp_alpha=0.0, criterion='friedman_mse',\n",
       "                          init=None, learning_rate=0.1, loss='ls', max_depth=3,\n",
       "                          max_features=None, max_leaf_nodes=None,\n",
       "                          min_impurity_decrease=0.0, min_impurity_split=None,\n",
       "                          min_samples_leaf=1, min_samples_split=2,\n",
       "                          min_weight_fraction_leaf=0.0, n_estimators=100,\n",
       "                          n_iter_no_change=None, presort='deprecated',\n",
       "                          random_state=None, subsample=1.0, tol=0.0001,\n",
       "                          validation_fraction=0.1, verbose=0, warm_start=False)"
      ]
     },
     "execution_count": 30,
     "metadata": {},
     "output_type": "execute_result"
    }
   ],
   "source": [
    "#블랙박스 모형으로 모델링\n",
    "from sklearn.ensemble import GradientBoostingRegressor\n",
    "m1 = GradientBoostingRegressor()\n",
    "m1.fit(x_train,y_train)"
   ]
  },
  {
   "cell_type": "code",
   "execution_count": 31,
   "metadata": {},
   "outputs": [
    {
     "data": {
      "text/plain": [
       "0.6240673203783532"
      ]
     },
     "execution_count": 31,
     "metadata": {},
     "output_type": "execute_result"
    }
   ],
   "source": [
    "m1.score(x_test,y_test)"
   ]
  },
  {
   "cell_type": "code",
   "execution_count": 32,
   "metadata": {},
   "outputs": [],
   "source": [
    "#블랙박스 모형의 예측값 출력\n",
    "pred = m1.predict(x_train)"
   ]
  },
  {
   "cell_type": "code",
   "execution_count": 33,
   "metadata": {
    "scrolled": true
   },
   "outputs": [
    {
     "data": {
      "text/plain": [
       "DecisionTreeRegressor(ccp_alpha=0.0, criterion='mse', max_depth=3,\n",
       "                      max_features=None, max_leaf_nodes=None,\n",
       "                      min_impurity_decrease=0.0, min_impurity_split=None,\n",
       "                      min_samples_leaf=1, min_samples_split=2,\n",
       "                      min_weight_fraction_leaf=0.0, presort='deprecated',\n",
       "                      random_state=None, splitter='best')"
      ]
     },
     "execution_count": 33,
     "metadata": {},
     "output_type": "execute_result"
    }
   ],
   "source": [
    "#global surrogate model 학습\n",
    "from sklearn.tree import DecisionTreeRegressor, export_graphviz\n",
    "m2 = DecisionTreeRegressor(max_depth=3)\n",
    "m2.fit(x_train, pred) #실제값으로 지도학습 하는 것이 아니라, m1(블랙박스 모형)의 예측값으로 지도학습 진행"
   ]
  },
  {
   "cell_type": "code",
   "execution_count": 42,
   "metadata": {},
   "outputs": [],
   "source": [
    "model = GradientBoostingRegressor(min_samples_split=65, max_depth=8)"
   ]
  },
  {
   "cell_type": "code",
   "execution_count": 43,
   "metadata": {},
   "outputs": [
    {
     "name": "stderr",
     "output_type": "stream",
     "text": [
      "/Users/um/anaconda3/lib/python3.7/site-packages/sklearn/ensemble/_gb.py:1454: DataConversionWarning: A column-vector y was passed when a 1d array was expected. Please change the shape of y to (n_samples, ), for example using ravel().\n",
      "  y = column_or_1d(y, warn=True)\n"
     ]
    },
    {
     "data": {
      "text/plain": [
       "GradientBoostingRegressor(alpha=0.9, ccp_alpha=0.0, criterion='friedman_mse',\n",
       "                          init=None, learning_rate=0.1, loss='ls', max_depth=8,\n",
       "                          max_features=None, max_leaf_nodes=None,\n",
       "                          min_impurity_decrease=0.0, min_impurity_split=None,\n",
       "                          min_samples_leaf=1, min_samples_split=65,\n",
       "                          min_weight_fraction_leaf=0.0, n_estimators=100,\n",
       "                          n_iter_no_change=None, presort='deprecated',\n",
       "                          random_state=None, subsample=1.0, tol=0.0001,\n",
       "                          validation_fraction=0.1, verbose=0, warm_start=False)"
      ]
     },
     "execution_count": 43,
     "metadata": {},
     "output_type": "execute_result"
    }
   ],
   "source": [
    "model.fit(x_train,y_train)"
   ]
  },
  {
   "cell_type": "code",
   "execution_count": 44,
   "metadata": {
    "scrolled": true
   },
   "outputs": [
    {
     "name": "stdout",
     "output_type": "stream",
     "text": [
      "GBT 모델\n",
      "------------------------------\n",
      "훈련 데이터셋\n",
      "score =  0.9990598216140185\n",
      "Mean_Squared_Error =  7298701.636088309\n",
      "RMSE =  2701.610933515096\n",
      "------------------------------\n",
      "테스트 데이터셋 성능\n",
      "score =  0.7689253500682652\n",
      "Mean_Squared_Error =  10630024856.20166\n",
      "RMSE =  103102.01189211421\n"
     ]
    }
   ],
   "source": [
    "print(\"GBT 모델\")\n",
    "print(\"------------------------------\")\n",
    "print(\"훈련 데이터셋\")\n",
    "print('score = ', model.score(x_train, y_train))\n",
    "train_prediction = model.predict(x_train)\n",
    "print('Mean_Squared_Error = ', mean_squared_error(train_prediction, y_train))\n",
    "print('RMSE = ', mean_squared_error(train_prediction, y_train)**0.5)\n",
    "print(\"------------------------------\")\n",
    "print(\"테스트 데이터셋 성능\")\n",
    "print('score = ', model.score(x_test, y_test))\n",
    "test_prediction = model.predict(x_test)\n",
    "print('Mean_Squared_Error = ', mean_squared_error(test_prediction, y_test))\n",
    "print('RMSE = ', mean_squared_error(test_prediction, y_test)**0.5)"
   ]
  },
  {
   "cell_type": "code",
   "execution_count": 45,
   "metadata": {},
   "outputs": [],
   "source": [
    "y_test2 = y_test[\"2020총수송인구수\"]"
   ]
  },
  {
   "cell_type": "code",
   "execution_count": 46,
   "metadata": {
    "scrolled": true
   },
   "outputs": [
    {
     "name": "stdout",
     "output_type": "stream",
     "text": [
      "MAE :  54208.95373470751\n"
     ]
    }
   ],
   "source": [
    "mae = mean_absolute_error(y_test2, model.predict(x_test))\n",
    "print(\"MAE : \", mae)"
   ]
  },
  {
   "cell_type": "code",
   "execution_count": 47,
   "metadata": {},
   "outputs": [
    {
     "data": {
      "text/plain": [
       "240"
      ]
     },
     "execution_count": 47,
     "metadata": {},
     "output_type": "execute_result"
    }
   ],
   "source": [
    "len(model.predict(x_test))"
   ]
  },
  {
   "cell_type": "code",
   "execution_count": 49,
   "metadata": {},
   "outputs": [],
   "source": [
    "y1 = pd.DataFrame(model.predict(x_test).tolist())"
   ]
  },
  {
   "cell_type": "code",
   "execution_count": 50,
   "metadata": {},
   "outputs": [],
   "source": [
    "y = y_test"
   ]
  },
  {
   "cell_type": "code",
   "execution_count": 51,
   "metadata": {},
   "outputs": [
    {
     "data": {
      "text/plain": [
       "240"
      ]
     },
     "execution_count": 51,
     "metadata": {},
     "output_type": "execute_result"
    }
   ],
   "source": [
    "len(y1)"
   ]
  },
  {
   "cell_type": "code",
   "execution_count": 52,
   "metadata": {},
   "outputs": [],
   "source": [
    "x1 = test_data.reset_index(drop=True)"
   ]
  },
  {
   "cell_type": "code",
   "execution_count": 53,
   "metadata": {},
   "outputs": [],
   "source": [
    "result = pd.concat([x1, y1], axis=1) "
   ]
  },
  {
   "cell_type": "code",
   "execution_count": 54,
   "metadata": {},
   "outputs": [],
   "source": [
    "result.to_excel(\"인구추정결과.xlsx\")"
   ]
  },
  {
   "cell_type": "markdown",
   "metadata": {},
   "source": [
    "## SVR 분석"
   ]
  },
  {
   "cell_type": "code",
   "execution_count": 55,
   "metadata": {},
   "outputs": [],
   "source": [
    "from sklearn.svm import SVR"
   ]
  },
  {
   "cell_type": "code",
   "execution_count": 56,
   "metadata": {},
   "outputs": [],
   "source": [
    "model = SVR(kernel='linear',gamma='auto')"
   ]
  },
  {
   "cell_type": "code",
   "execution_count": 61,
   "metadata": {},
   "outputs": [
    {
     "name": "stderr",
     "output_type": "stream",
     "text": [
      "/Users/um/anaconda3/lib/python3.7/site-packages/sklearn/utils/validation.py:760: DataConversionWarning: A column-vector y was passed when a 1d array was expected. Please change the shape of y to (n_samples, ), for example using ravel().\n",
      "  y = column_or_1d(y, warn=True)\n"
     ]
    },
    {
     "data": {
      "text/plain": [
       "SVR(C=1.0, cache_size=200, coef0=0.0, degree=3, epsilon=0.1, gamma='auto',\n",
       "    kernel='linear', max_iter=-1, shrinking=True, tol=0.001, verbose=False)"
      ]
     },
     "execution_count": 61,
     "metadata": {},
     "output_type": "execute_result"
    }
   ],
   "source": [
    "model.fit(x_train, y_train)"
   ]
  },
  {
   "cell_type": "code",
   "execution_count": 62,
   "metadata": {},
   "outputs": [
    {
     "name": "stdout",
     "output_type": "stream",
     "text": [
      "SVR 모델\n",
      "------------------------------\n",
      "훈련 데이터셋\n",
      "score =  0.7698043059133943\n",
      "Mean_Squared_Error =  1787032880.251154\n",
      "RMSE =  42273.31167830543\n",
      "------------------------------\n",
      "테스트 데이터셋 성능\n",
      "score =  0.6132987472806124\n",
      "Mean_Squared_Error =  17789246589.990715\n",
      "RMSE =  133376.33444502333\n"
     ]
    }
   ],
   "source": [
    "print(\"SVR 모델\")\n",
    "print(\"------------------------------\")\n",
    "print(\"훈련 데이터셋\")\n",
    "print('score = ', model.score(x_train, y_train))\n",
    "train_prediction = model.predict(x_train)\n",
    "print('Mean_Squared_Error = ', mean_squared_error(train_prediction, y_train))\n",
    "print('RMSE = ', mean_squared_error(train_prediction, y_train)**0.5)\n",
    "print(\"------------------------------\")\n",
    "print(\"테스트 데이터셋 성능\")\n",
    "print('score = ', model.score(x_test, y_test))\n",
    "test_prediction = model.predict(x_test)\n",
    "print('Mean_Squared_Error = ', mean_squared_error(test_prediction, y_test))\n",
    "print('RMSE = ', mean_squared_error(test_prediction, y_test)**0.5)"
   ]
  },
  {
   "cell_type": "code",
   "execution_count": 63,
   "metadata": {},
   "outputs": [
    {
     "name": "stdout",
     "output_type": "stream",
     "text": [
      "MAE :  77247.89087262894\n"
     ]
    }
   ],
   "source": [
    "y_test2 = y_test[\"2020총수송인구수\"]\n",
    "mae = mean_absolute_error(y_test2, model.predict(x_test))\n",
    "print(\"MAE : \", mae)"
   ]
  }
 ],
 "metadata": {
  "kernelspec": {
   "display_name": "Python 3",
   "language": "python",
   "name": "python3"
  },
  "language_info": {
   "codemirror_mode": {
    "name": "ipython",
    "version": 3
   },
   "file_extension": ".py",
   "mimetype": "text/x-python",
   "name": "python",
   "nbconvert_exporter": "python",
   "pygments_lexer": "ipython3",
   "version": "3.7.3"
  }
 },
 "nbformat": 4,
 "nbformat_minor": 4
}
